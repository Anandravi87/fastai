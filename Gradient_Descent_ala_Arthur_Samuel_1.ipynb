{
 "cells": [
  {
   "cell_type": "code",
   "execution_count": 34,
   "metadata": {},
   "outputs": [],
   "source": [
    "#hide\n",
    "!pip install -Uqq fastbook\n",
    "import fastbook\n",
    "fastbook.setup_book()"
   ]
  },
  {
   "cell_type": "code",
   "execution_count": 35,
   "metadata": {},
   "outputs": [],
   "source": [
    "#hide\n",
    "from fastai.vision.all import *\n",
    "from fastbook import *\n",
    "\n",
    "matplotlib.rc('image', cmap='Greys')"
   ]
  },
  {
   "cell_type": "code",
   "execution_count": 83,
   "metadata": {},
   "outputs": [],
   "source": [
    "#define time and speed (these are the labels)\n",
    "time = torch.arange(0,20).float(); \n",
    "speed = torch.randn(20)*3 + 0.75*(time-9.5)**2 + 1"
   ]
  },
  {
   "cell_type": "markdown",
   "metadata": {},
   "source": [
    "## Remember the 7 step process\n",
    "1. Initialize the weights.\n",
    "2. For each image, use these weights to predict whether it appears to be a 3 or a 7.\n",
    "3. Based on these predictions, calculate how good the model is (its loss).\n",
    "4. Calculate the gradient, which measures for each weight, how changing that weight would change the loss\n",
    "5. Step (that is, change) all the weights based on that calculation.\n",
    "6. Go back to the step 2, and repeat the process.\n",
    "7. Iterate until you decide to stop the training process (for instance, because the model is good enough or you don't want to wait any longer)."
   ]
  },
  {
   "cell_type": "code",
   "execution_count": 84,
   "metadata": {},
   "outputs": [],
   "source": [
    "#define a function for making the predictions (step #2)\n",
    "def f(t, params):\n",
    "    a,b,c = params\n",
    "    return a*(t**2) + (b*t) + c"
   ]
  },
  {
   "cell_type": "code",
   "execution_count": 85,
   "metadata": {},
   "outputs": [],
   "source": [
    "#define a function for calculating the loss (step #3)\n",
    "def mse(preds, targets): \n",
    "    return ((preds-targets)**2).mean()"
   ]
  },
  {
   "cell_type": "code",
   "execution_count": 86,
   "metadata": {},
   "outputs": [],
   "source": [
    "#randonly initialise the parameters\n",
    "params = torch.randn(3).requires_grad_()"
   ]
  },
  {
   "cell_type": "code",
   "execution_count": 87,
   "metadata": {},
   "outputs": [],
   "source": [
    "#save the initialisation to view in the chart later\n",
    "orig_params = params.clone()"
   ]
  },
  {
   "cell_type": "code",
   "execution_count": 88,
   "metadata": {},
   "outputs": [],
   "source": [
    "#define a function that does steps 2 through 6\n",
    "def apply_step(params, prn=True):\n",
    "    preds = f(time, params)\n",
    "    loss = mse(preds, speed)\n",
    "    loss.backward()\n",
    "    params.data -= lr * params.grad.data\n",
    "    params.grad = None\n",
    "    if prn: print(loss.item())\n",
    "    return preds"
   ]
  },
  {
   "cell_type": "code",
   "execution_count": 89,
   "metadata": {},
   "outputs": [
    {
     "name": "stdout",
     "output_type": "stream",
     "text": [
      "3352.24462890625\n",
      "1176.8729248046875\n",
      "765.2229614257812\n",
      "687.322998046875\n",
      "672.5787353515625\n",
      "669.7855224609375\n",
      "669.253662109375\n",
      "669.1499633789062\n",
      "669.1270751953125\n",
      "669.1194458007812\n",
      "669.1148681640625\n",
      "669.11083984375\n",
      "669.1068115234375\n",
      "669.1029663085938\n",
      "669.0989990234375\n",
      "669.094970703125\n",
      "669.0911254882812\n",
      "669.0870971679688\n",
      "669.0831909179688\n",
      "669.079345703125\n"
     ]
    }
   ],
   "source": [
    "#Set the number of epochs and learning rate. Call apply_step for epoch number of times\n",
    "epoch = 20\n",
    "lr = 0.00001\n",
    "for i in range(epoch): \n",
    "    preds = apply_step(params)"
   ]
  },
  {
   "cell_type": "code",
   "execution_count": 90,
   "metadata": {},
   "outputs": [],
   "source": [
    "#define a function that displays the predictions\n",
    "\n",
    "def show_preds(preds, ax=None):\n",
    "    if ax is None: ax=plt.subplots()[1]\n",
    "    ax.scatter(time, speed)\n",
    "    ax.scatter(time, to_np(preds), color='red')\n",
    "    ax.set_ylim(-300,100)"
   ]
  },
  {
   "cell_type": "code",
   "execution_count": 91,
   "metadata": {},
   "outputs": [],
   "source": [
    "#assign the params to the initial value for display purposes\n",
    "params = orig_params.detach().requires_grad_()"
   ]
  },
  {
   "cell_type": "code",
   "execution_count": 92,
   "metadata": {},
   "outputs": [
    {
     "data": {
      "image/png": "[encoded data removed]",
      "text/plain": [
       "<Figure size 864x216 with 4 Axes>"
      ]
     },
     "metadata": {
      "needs_background": "light"
     },
     "output_type": "display_data"
    }
   ],
   "source": [
    "_,axs = plt.subplots(1,4,figsize=(12,3))\n",
    "for ax in axs: \n",
    "    show_preds(apply_step(params, False), ax)\n",
    "plt.tight_layout()"
   ]
  },
  {
   "cell_type": "code",
   "execution_count": null,
   "metadata": {},
   "outputs": [],
   "source": []
  }
 ],
 "metadata": {
  "kernelspec": {
   "display_name": "Python 3",
   "language": "python",
   "name": "python3"
  },
  "language_info": {
   "codemirror_mode": {
    "name": "ipython",
    "version": 3
   },
   "file_extension": ".py",
   "mimetype": "text/x-python",
   "name": "python",
   "nbconvert_exporter": "python",
   "pygments_lexer": "ipython3",
   "version": "3.8.5"
  }
 },
 "nbformat": 4,
 "nbformat_minor": 4
}
